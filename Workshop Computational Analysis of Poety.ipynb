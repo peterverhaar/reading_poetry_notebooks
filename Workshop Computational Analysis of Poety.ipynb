{
 "cells": [
  {
   "cell_type": "markdown",
   "id": "a4077300",
   "metadata": {},
   "source": [
    "# Computational Analysis of Poetry\n",
    "\n",
    "This notebook demonstrates the use of the package `reading_poetry`.  It needs to be installed first. The code in this notebook also uses `nltk`, `vaderSentiment` and `pyvis`. "
   ]
  },
  {
   "cell_type": "code",
   "execution_count": null,
   "id": "b7c15082",
   "metadata": {},
   "outputs": [],
   "source": [
    "!pip install reading_poetry\n",
    "!pip install vaderSentiment\n",
    "!pip install pyvis\n",
    "!pip install nltk"
   ]
  },
  {
   "cell_type": "code",
   "execution_count": null,
   "id": "740bca62",
   "metadata": {},
   "outputs": [],
   "source": [
    "import reading_poetry as rp\n",
    "import os\n",
    "import re\n",
    "\n",
    "import ssl\n",
    "\n",
    "try:\n",
    "    _create_unverified_https_context = ssl._create_unverified_context\n",
    "except AttributeError:\n",
    "    pass\n",
    "else:\n",
    "    ssl._create_default_https_context = _create_unverified_https_context\n",
    "\n",
    "nltk.download('punkt')\n",
    "nltk.download('averaged_perceptron_tagger')\n",
    "nltk.download('tagsets')\n",
    "nltk.download('wordnet')\n",
    "nltk.download('sentiwordnet')"
   ]
  },
  {
   "cell_type": "markdown",
   "id": "1fd4bcb2",
   "metadata": {},
   "source": [
    "You can download the poems to be analysed using the code below. "
   ]
  },
  {
   "cell_type": "code",
   "execution_count": null,
   "id": "4bdb6416",
   "metadata": {},
   "outputs": [],
   "source": [
    "url = 'https://github.com/peterverhaar/reading_poetry_notebooks/raw/main/Poems.zip'\n",
    "\n",
    "import requests\n",
    "\n",
    "response = requests.get(url)\n",
    "if response:\n",
    "    open(\"Poems.zip\", \"wb\").write(response.content)\n",
    "\n",
    "from zipfile import ZipFile\n",
    "\n",
    "with ZipFile('Poems.zip', 'r') as zipObj:\n",
    "   # Extract all the contents of zip file in current directory\n",
    "   zipObj.extractall()"
   ]
  },
  {
   "cell_type": "markdown",
   "id": "2e1b6a8d",
   "metadata": {},
   "source": [
    "## Phonetic transcription\n",
    "\n",
    "The `reading_poetry` package has a fuction named `transcribe()` which you can use to create phonetic transcriptions in [SAMPA](https://www.phon.ucl.ac.uk/home/sampa/index.html) notation. \n"
   ]
  },
  {
   "cell_type": "code",
   "execution_count": null,
   "id": "9bb997bf",
   "metadata": {},
   "outputs": [],
   "source": [
    "verse_line = \"The drunkenness of things being various\"\n",
    "\n",
    "print( rp.transcribe(verse_line) )"
   ]
  },
  {
   "cell_type": "markdown",
   "id": "37d66ead",
   "metadata": {},
   "source": [
    " You may test this function using lines from the following two poems. \n",
    "    \n",
    "    THE LAKE ISLE OF INNISFREE\n",
    "\n",
    "    I WILL arise and go now, and go to Innisfree,\n",
    "    And a small cabin build there, of clay and wattles made:\n",
    "    Nine bean-rows will I have there, a hive for the honeybee,\n",
    "    And live alone in the bee-loud glade.\n",
    "    \n",
    "    And I shall have some peace there, for peace comes dropping slow,\n",
    "    Dropping from the veils of the mourning to where the cricket sings;\n",
    "    There midnight's all a glimmer, and noon a purple glow,\n",
    "    And evening full of the linnet's wings.\n",
    "    \n",
    "    I will arise and go now, for always night and day\n",
    "    I hear lake water lapping with low sounds by the shore;\n",
    "    While I stand on the roadway, or on the pavements grey,\n",
    "    I hear it in the deep heart's core.\n",
    "\n",
    "\n",
    "\n",
    "    Snow\n",
    "\n",
    "    The room was suddenly rich and the great bay-window was\n",
    "    Spawning snow and pink roses against it\n",
    "    Soundlessly collateral and incompatible:\n",
    "    World is suddener than we fancy it.\n",
    "\n",
    "    World is crazier and more of it than we think,\n",
    "    Incorrigibly plural. I peel and portion\n",
    "    A tangerine and spit the pips and feel\n",
    "    The drunkenness of things being various.\n",
    "\n",
    "    And the fire flames with a bubbling sound for world\n",
    "    Is more spiteful and gay than one supposes— \n",
    "    On the tongue on the eyes on the ears in the palms of one's hands—\n",
    "    There is more than glass between the snow and the huge roses."
   ]
  },
  {
   "cell_type": "markdown",
   "id": "105ac1d0",
   "metadata": {},
   "source": [
    "## Add annotations in TEI"
   ]
  },
  {
   "cell_type": "markdown",
   "id": "737bab77",
   "metadata": {},
   "source": [
    "The function `add_annotations()` can be used to add data about the POS category, the lemma and the phonetic transcription. The annotations are stored as TEI.  "
   ]
  },
  {
   "cell_type": "code",
   "execution_count": null,
   "id": "c329bdd9",
   "metadata": {},
   "outputs": [],
   "source": [
    "path = os.path.join('Poems','Yeats','TheLakeIsleOfInnisfree.txt' )\n",
    "xml = rp.add_annotations(path)\n",
    "print(xml)"
   ]
  },
  {
   "cell_type": "markdown",
   "id": "1767c8c9",
   "metadata": {},
   "source": [
    "The cell below annotates all the lines in the poems you dowloaded, and saves the TEI files in a folder named `XML`."
   ]
  },
  {
   "cell_type": "code",
   "execution_count": null,
   "id": "01f0596f",
   "metadata": {},
   "outputs": [],
   "source": [
    "if not os.path.isdir('XML'):\n",
    "    os.mkdir('XML')\n",
    "    \n",
    "dir = 'Poems'\n",
    "\n",
    "author = dict()\n",
    "texts = []\n",
    "\n",
    "for root, dirs, files in os.walk(dir):\n",
    "    for file in files:\n",
    "        if re.search( r'\\.txt$' , file ):\n",
    "            texts.append( os.path.join(root, file) )\n",
    "\n",
    "for t in sorted(texts):\n",
    "\n",
    "    out_file = os.path.basename(t)\n",
    "    out_file = re.sub( 'txt$' , 'xml' , out_file )\n",
    "    out_file = out_file\n",
    "    \n",
    "    if re.search( 'Yeats' , t , re.IGNORECASE ):\n",
    "        author[out_file] = 'Yeats'\n",
    "    else:\n",
    "        author[out_file] = 'MacNeice'\n",
    "        \n",
    "    out = open( os.path.join( 'XML' , out_file ) , 'w' , encoding='utf-8' ,    errors= 'replace')\n",
    "    \n",
    "    tei = rp.add_annotations(t)\n",
    "    out.write(tei)\n",
    "    out.close()\n",
    "    \n",
    "print('Done!')\n",
    "    "
   ]
  },
  {
   "cell_type": "markdown",
   "id": "4063833a",
   "metadata": {},
   "source": [
    "## Basic information about poems"
   ]
  },
  {
   "cell_type": "code",
   "execution_count": null,
   "id": "63746719",
   "metadata": {},
   "outputs": [],
   "source": [
    "dir = 'XML'\n",
    "file = 'TheLakeIsleOfInnisfree.xml'\n",
    "path = os.path.join( dir, file )\n",
    "\n",
    "poem = rp.Poem( path )\n",
    "\n",
    "\n",
    "print( f'Number of lines: {poem.nr_lines} ' )\n",
    "print( f'Number of words: {poem.nr_words} ' )\n",
    "print( f'Number of stanzas: {poem.nr_stanzas} ' )"
   ]
  },
  {
   "cell_type": "code",
   "execution_count": null,
   "id": "fc62b39d",
   "metadata": {},
   "outputs": [],
   "source": [
    "print( poem.title + '\\n')\n",
    "\n",
    "stanzas = poem.stanza_structure\n",
    "print(stanzas)\n",
    "print('\\n', end = '')\n",
    "\n",
    "last_lines = []\n",
    "for s in stanzas:\n",
    "    last_lines.append(stanzas[s][-1])\n",
    "    \n",
    "lines = poem.lines\n",
    "for n in lines:    \n",
    "    print( f'{n}. {lines[n]}' )\n",
    "    if n in last_lines:\n",
    "        print('\\n', end = '')\n"
   ]
  },
  {
   "cell_type": "markdown",
   "id": "650c8ddb",
   "metadata": {},
   "source": [
    "We can print all the phonetic transcriptions (in SAMPA notation)."
   ]
  },
  {
   "cell_type": "code",
   "execution_count": null,
   "id": "797bc758",
   "metadata": {},
   "outputs": [],
   "source": [
    "transcr = poem.transcriptions\n",
    "lines = poem.lines\n",
    "\n",
    "for n in lines:\n",
    "    print( lines[n] )\n",
    "    print( transcr[n] )\n",
    "    print('\\n' , end = '')"
   ]
  },
  {
   "cell_type": "markdown",
   "id": "88d1f6a6",
   "metadata": {},
   "source": [
    "## Alliteration"
   ]
  },
  {
   "cell_type": "code",
   "execution_count": null,
   "id": "b502e186",
   "metadata": {},
   "outputs": [],
   "source": [
    "dir = 'XML'\n",
    "\n",
    "poems = [ 'Belfast.xml' , 'TheLakeIsleOfInnisfree.xml' ]\n",
    "\n",
    "for tei in poems:\n",
    "    path = os.path.join( dir, tei ) \n",
    "    poem = rp.Poem( path )\n",
    "    print(poem.title + '\\n')\n",
    "    poem.show_alliteration()\n",
    "    "
   ]
  },
  {
   "cell_type": "markdown",
   "id": "d5ea829b",
   "metadata": {},
   "source": [
    "## Perfect rhyme"
   ]
  },
  {
   "cell_type": "code",
   "execution_count": null,
   "id": "631cbfde",
   "metadata": {},
   "outputs": [],
   "source": [
    "import os\n",
    "dir = 'XML'\n",
    "\n",
    "poems = [ 'DownByTheSalleyGardens.xml' , 'ACoat.xml' , 'SundayMorning.xml' ]\n",
    "\n",
    "for tei in poems:\n",
    "    path = os.path.join( dir, tei ) \n",
    "    poem = rp.Poem( path )\n",
    "    print(poem.title + '\\n')\n",
    "    poem.show_perfect_rhyme()"
   ]
  },
  {
   "cell_type": "markdown",
   "id": "5cd2b6f2",
   "metadata": {},
   "source": [
    "## Internal rhyme"
   ]
  },
  {
   "cell_type": "code",
   "execution_count": null,
   "id": "4737849f",
   "metadata": {},
   "outputs": [],
   "source": [
    "poems = [ 'TheDoubleVisionOfMichaelRobartes.xml' , 'HeWishesForTheClothsOfHeaven.xml'\n",
    ", 'WesternLandscape.xml' , 'Budgie.xml' , 'ThePhasesOfTheMoon.xml']\n",
    "\n",
    "for tei in poems:\n",
    "    path = os.path.join( dir, tei ) \n",
    "    poem = rp.Poem( path )\n",
    "    print(poem.title + '\\n')\n",
    "    poem.show_internal_rhyme()"
   ]
  },
  {
   "cell_type": "markdown",
   "id": "16c792be",
   "metadata": {},
   "source": [
    "## Slant Rhyme"
   ]
  },
  {
   "cell_type": "code",
   "execution_count": null,
   "id": "120de211",
   "metadata": {},
   "outputs": [],
   "source": [
    "poems = [ 'Birmingham.xml'  ]\n",
    "dir = 'XML'\n",
    "\n",
    "for tei in poems:\n",
    "    path = os.path.join( dir, tei ) \n",
    "    poem = rp.Poem( path )\n",
    "    print(poem.title + '\\n')\n",
    "    poem.show_slant_rhyme_consonance()\n"
   ]
  },
  {
   "cell_type": "code",
   "execution_count": null,
   "id": "ba8a1fa9",
   "metadata": {},
   "outputs": [],
   "source": [
    "poems = [ 'BagpipeMusic.xml' ]\n",
    "dir = 'XML'\n",
    "\n",
    "for tei in poems:\n",
    "    path = os.path.join( dir, tei ) \n",
    "    poem = rp.Poem( path )\n",
    "    print(poem.title + '\\n')\n",
    "    poem.show_slant_rhyme_assonance()\n"
   ]
  },
  {
   "cell_type": "markdown",
   "id": "aa036527",
   "metadata": {},
   "source": [
    "## Texture"
   ]
  },
  {
   "cell_type": "code",
   "execution_count": null,
   "id": "f274d118",
   "metadata": {},
   "outputs": [],
   "source": [
    "from IPython.display import SVG, display, HTML\n",
    "poems = [ 'TheFallingOfTheLeaves.xml' , 'ThePalePanther.xml']\n",
    "dir = 'XML'\n",
    "for tei in poems:\n",
    "    path = os.path.join( dir, tei ) \n",
    "    poem = rp.Poem(path)\n",
    "    print( poem.title )\n",
    "#     lines = poem.lines\n",
    "#     for l in lines:\n",
    "#         print(lines[l])\n",
    "    svg = poem.texture()\n",
    "    display(HTML(svg))"
   ]
  },
  {
   "cell_type": "markdown",
   "id": "128aeec0",
   "metadata": {},
   "source": [
    "## Anaphora"
   ]
  },
  {
   "cell_type": "code",
   "execution_count": null,
   "id": "65f3b4d5",
   "metadata": {},
   "outputs": [],
   "source": [
    "poems = [ 'WhenYouAreOld.xml', \n",
    " 'FlightOfTheHeart.xml' ,\n",
    "    'TheClosingAlbum.xml' ,\n",
    "'Vistas.xml' ,\n",
    "'TrainToDublin.xml' ,\n",
    "'TheBlackTower.xml' ]\n",
    "\n",
    "\n",
    "\n",
    "for tei in poems:\n",
    "     \n",
    "    poem = rp.Poem(os.path.join( 'XML' , tei ))\n",
    "\n",
    "    lines = poem.lines\n",
    "    lines = set(list(lines.values()))\n",
    "\n",
    "    a = rp.anaphora(lines)\n",
    "    if len(a) > 0:\n",
    "        print(poem.title)\n",
    "        print(a)\n",
    "        for l in lines:\n",
    "            for ra in a:\n",
    "                if re.search( '^{}'.format(ra) , l.lower() ):\n",
    "                    print(l)\n",
    "        print()\n",
    "\n",
    "        "
   ]
  },
  {
   "cell_type": "markdown",
   "id": "ff7e48fa",
   "metadata": {},
   "source": [
    "## Comparative analysis"
   ]
  },
  {
   "cell_type": "markdown",
   "id": "368a85e8",
   "metadata": {},
   "source": [
    "The code below can be used to collect quantitative data about all the poems in the corpus. The data are saved in a CSV file. "
   ]
  },
  {
   "cell_type": "code",
   "execution_count": null,
   "id": "31d34431",
   "metadata": {},
   "outputs": [],
   "source": [
    "import os\n",
    "import re\n",
    "from nltk import word_tokenize\n",
    "from vaderSentiment.vaderSentiment import SentimentIntensityAnalyzer \n",
    "ana = SentimentIntensityAnalyzer()\n",
    "\n",
    "out = open( 'data.csv', 'w' , encoding = 'utf-8' )\n",
    "\n",
    "\n",
    "columns = [ 'title' , \n",
    "           'nr_words' , \n",
    "           'nr_stanzas' , \n",
    "           'nr_lines' , \n",
    "           'alliteration' , \n",
    "           'internal_rhyme' , \n",
    "           'perfect_rhyme' , \n",
    "            'slant_rhyme_assonance', \n",
    "           'slant_rhyme_consonance', \n",
    "           'anaphora' , \n",
    "           'neg_words' , \n",
    "           'pos_words' , \n",
    "           'author']\n",
    "\n",
    "header = ','.join(columns)\n",
    "out.write( header )\n",
    "out.write('\\n')\n",
    "\n",
    "for file in os.listdir('XML'):\n",
    "    if re.search( 'xml$' , file ):\n",
    "        print( f'Collecting data for {file} ...')\n",
    "\n",
    "        data = dict()\n",
    "        data['author'] = author[file]\n",
    "        \n",
    "        poem = rp.Poem(os.path.join( 'XML' , file))\n",
    "        data['title'] = poem.title\n",
    "        data['nr_words'] = poem.nr_words\n",
    "        data['nr_stanzas'] = poem.nr_stanzas\n",
    "        data['nr_lines'] = poem.nr_lines\n",
    "\n",
    "        tr = poem.transcriptions\n",
    "        alliteration_count = 0\n",
    "        internal_rhyme_count = 0 \n",
    "\n",
    "        for line in tr:\n",
    "\n",
    "            alliteration = rp.alliteration(tr[line])\n",
    "            alliteration = re.sub('-|\\s+', '' , alliteration )\n",
    "            alliteration_count += len( alliteration )\n",
    "            internal_rhyme = rp.internal_rhyme(tr[line])\n",
    "            if len(internal_rhyme) > 0:\n",
    "                internal_rhyme_count += len(internal_rhyme)\n",
    "                \n",
    "\n",
    "\n",
    "        data['alliteration'] = alliteration_count\n",
    "        data['internal_rhyme'] = internal_rhyme_count\n",
    "\n",
    "        lines = poem.lines\n",
    "        neg_words = 0 \n",
    "        pos_words = 0 \n",
    "        \n",
    "        for line in lines:\n",
    "            words = rp.word_tokenise(lines[line])\n",
    "            for word in words:\n",
    "                scores = ana.polarity_scores(word)\n",
    "                if scores['neg'] > 0: \n",
    "                    neg_words += 1\n",
    "                if scores['pos'] > 0: \n",
    "                    pos_words += 1\n",
    "                    \n",
    "        data['pos_words'] = pos_words\n",
    "        data['neg_words'] = neg_words\n",
    "        \n",
    "        data['anaphora'] = poem.anaphora_count_lines()\n",
    "    \n",
    "        stanzas = poem.stanza_structure\n",
    "        pr_count = 0\n",
    "        sra_count = 0\n",
    "        src_count = 0\n",
    "\n",
    "        for s in stanzas:\n",
    "            stanza_lines = []\n",
    "            for n in stanzas[s]:\n",
    "                stanza_lines.append(tr[n])\n",
    "\n",
    "            ## perfect rhyme\n",
    "            pr = rp.perfect_rhyme(stanza_lines)\n",
    "            if re.search( r'\\d' , pr ):\n",
    "                pr = re.sub('-|\\s+', '' , pr )\n",
    "                pr_count += len( pr )\n",
    "                \n",
    "            sra = rp.slant_rhyme_assonance(stanza_lines)\n",
    "            if re.search( r'\\d' , sra ):\n",
    "                sra = re.sub('-|\\s+', '' , sra )\n",
    "                sra_count += len( sra )\n",
    "\n",
    "            src = rp.slant_rhyme_consonance(stanza_lines)\n",
    "            if re.search( r'\\d' , src ):\n",
    "                src = re.sub('-|\\s+', '' , src )\n",
    "                src_count += len( src )\n",
    "\n",
    "        data['perfect_rhyme'] = pr_count    \n",
    "        data['slant_rhyme_assonance'] = sra_count\n",
    "        data['slant_rhyme_consonance'] = src_count  \n",
    "\n",
    "\n",
    "        for i,c in enumerate(columns):\n",
    "            out.write( f'{data[c]}')\n",
    "            if i == len(columns)-1:\n",
    "                out.write('\\n')\n",
    "            else:\n",
    "                out.write(',')\n",
    "\n",
    "out.close() \n",
    "\n",
    "print('Done!')\n",
    " "
   ]
  },
  {
   "cell_type": "code",
   "execution_count": null,
   "id": "aa1881cc",
   "metadata": {},
   "outputs": [],
   "source": [
    "import pandas as pd\n",
    "\n",
    "df = pd.read_csv('data.csv')\n",
    "\n",
    "df.head(10)"
   ]
  },
  {
   "cell_type": "markdown",
   "id": "9a5d17a4",
   "metadata": {},
   "source": [
    "## Normalisation"
   ]
  },
  {
   "cell_type": "code",
   "execution_count": null,
   "id": "1f13c685",
   "metadata": {},
   "outputs": [],
   "source": [
    "df['perfect_rhyme_normalised'] = df['perfect_rhyme'] / df['nr_lines']\n",
    "df['slant_rhyme_a_normalised'] = df['slant_rhyme_assonance'] / df['nr_lines']\n",
    "df['slant_rhyme_c_normalised'] = df['slant_rhyme_consonance'] / df['nr_lines']\n",
    "df['anaphora_normalised'] = df['anaphora'] / df['nr_lines']\n",
    "df['alliteration_normalised'] = df['alliteration'] / df['nr_words']\n",
    "df['internal_rhyme_normalised'] = df['internal_rhyme'] / df['nr_words']\n",
    "df['no_rhyme'] = df['nr_lines'] - ( df['perfect_rhyme'] + df['slant_rhyme_assonance'] )\n",
    "df['no_rhyme_normalised'] = df['no_rhyme'] / df['nr_lines']"
   ]
  },
  {
   "cell_type": "code",
   "execution_count": null,
   "id": "c6f50d2b",
   "metadata": {},
   "outputs": [],
   "source": [
    "df.head()"
   ]
  },
  {
   "cell_type": "markdown",
   "id": "df7a8100",
   "metadata": {},
   "source": [
    "## Visualisation of perfect rhyme and slant rhyme "
   ]
  },
  {
   "cell_type": "code",
   "execution_count": null,
   "id": "3c325ca9",
   "metadata": {},
   "outputs": [],
   "source": [
    "x_axis = 'perfect_rhyme_normalised'\n",
    "y_axis = 'slant_rhyme_a_normalised'\n",
    "\n",
    "import seaborn as sns\n",
    "import matplotlib.pyplot as plt \n",
    "\n",
    "#colours = [  '#a88732' ,  '#265c28' , '#a0061a' ,  '#431670' ]\n",
    "\n",
    "## The line below applies a stylesheet\n",
    "## and also adds spacing in between the lines of the legend \n",
    "sns.set(style='whitegrid', rc = {'legend.labelspacing': 2})\n",
    "\n",
    "\n",
    "fig = plt.figure( figsize = ( 12,8 ))\n",
    "\n",
    "colours = ['#EE7733','#007788']\n",
    "ax = sns.scatterplot(x = x_axis , y = y_axis , data=df , s=150 , hue = 'author' , palette = colours )\n",
    "\n",
    "# this next line makes sure that the legend is shown outside of the graph\n",
    "plt.legend(bbox_to_anchor=(1.05, 1), loc=2, borderaxespad=0.)\n",
    "\n",
    "\n",
    "ax.set_xlabel('Perfect rhyme')\n",
    "ax.set_ylabel('Slant rhyme') \n",
    "\n",
    "for index, row in df.iterrows():\n",
    "    alpha = 0.95\n",
    "    if row[x_axis] < 0.05 or row[y_axis] < 0.05:\n",
    "        alpha = 0.1\n",
    "    plt.text( row[x_axis]-0.02, row[y_axis]+ 0.015 , row['title'] , alpha = alpha , fontsize=12.8)\n",
    "\n",
    "plt.show()"
   ]
  },
  {
   "cell_type": "code",
   "execution_count": null,
   "id": "dffefe6e",
   "metadata": {},
   "outputs": [],
   "source": [
    "x_axis = 'alliteration_normalised'\n",
    "y_axis = 'anaphora_normalised'\n",
    "\n",
    "import seaborn as sns\n",
    "import matplotlib.pyplot as plt \n",
    "\n",
    "#colours = [  '#a88732' ,  '#265c28' , '#a0061a' ,  '#431670' ]\n",
    "\n",
    "## The line below applies a stylesheet\n",
    "## and also adds spacing in between the lines of the legend \n",
    "sns.set(style='whitegrid', rc = {'legend.labelspacing': 2})\n",
    "\n",
    "\n",
    "fig = plt.figure( figsize = ( 12,8 ))\n",
    "\n",
    "colours = ['#EE7733','#007788']\n",
    "ax = sns.scatterplot(x = x_axis , y = y_axis , data=df , s=150 , hue='author' , palette=colours)\n",
    "\n",
    "plt.legend(bbox_to_anchor=(1.05, 1), loc=2, borderaxespad=0.)\n",
    "\n",
    "ax.set_xlabel('Alliteration')\n",
    "ax.set_ylabel('Anaphora') \n",
    "\n",
    "for index, row in df.iterrows():\n",
    "    alpha = 0.95\n",
    "    if row[x_axis] < 0.05 or row[y_axis] < 0.05:\n",
    "        alpha = 0.1\n",
    "    plt.text( row[x_axis]-0.02, row[y_axis]+ 0.01 , row['title'] , alpha = alpha , fontsize=12.8)\n",
    "\n",
    "plt.show()"
   ]
  },
  {
   "cell_type": "markdown",
   "id": "77395e5e",
   "metadata": {},
   "source": [
    "## Visualisation of internal rhyme"
   ]
  },
  {
   "cell_type": "code",
   "execution_count": null,
   "id": "3b17adb6",
   "metadata": {},
   "outputs": [],
   "source": [
    "x_axis = 'internal_rhyme_normalised'\n",
    "y_axis = 'title'\n",
    "\n",
    "\n",
    "dfs = df.sort_values(by=[x_axis], ascending=False)\n",
    "\n",
    "fig = plt.figure( figsize = ( 6,8 ))\n",
    "\n",
    "colours = ['#EE7733','#007788']\n",
    "ax = sns.barplot( data = dfs , x = x_axis , y= y_axis , color = '#22106b' , hue='author' , palette=colours)\n",
    "\n",
    "ax.set_ylabel('Poem') \n",
    "ax.set_xlabel('Alliteration (normalised by number of words)')\n",
    "\n",
    "plt.legend(bbox_to_anchor=(1.05, 1), loc=2, borderaxespad=0.)\n",
    "plt.xticks(rotation= 90 )\n",
    "plt.show()"
   ]
  },
  {
   "cell_type": "markdown",
   "id": "a74438b3",
   "metadata": {},
   "source": [
    "## Perfect rhyme and slant rhyme in combination"
   ]
  },
  {
   "cell_type": "code",
   "execution_count": null,
   "id": "174b96dd",
   "metadata": {},
   "outputs": [],
   "source": [
    "import matplotlib.pyplot as plt\n",
    "import seaborn as sns\n",
    "\n",
    "#set seaborn plotting aesthetics\n",
    "sns.set(style='white')\n",
    "\n",
    "df_rhyme = df[ ['title' , 'perfect_rhyme_normalised' , 'slant_rhyme_a_normalised' , 'no_rhyme_normalised'  ] ]\n",
    "df_rhyme = df_rhyme.sort_values(by=['perfect_rhyme_normalised'], ascending=False)\n",
    "\n",
    "sns.set(rc={'figure.figsize':(8,7)})\n",
    "\n",
    "#create stacked bar chart\n",
    "ax = df_rhyme.set_index('title').plot(kind='bar', stacked=True, color=['#3361ab', '#d93f2e' , '#d1cac9'])\n",
    "\n",
    "ax.set_xlabel('Title') \n",
    "ax.set_ylabel('Perfect rhyme and slant rhyme')\n",
    "\n",
    "# Put the legend out of the figure\n",
    "plt.legend(bbox_to_anchor=(1.05, 1), loc=2, borderaxespad=0.)"
   ]
  },
  {
   "cell_type": "markdown",
   "id": "2b99e2c0",
   "metadata": {},
   "source": [
    "## Similarity"
   ]
  },
  {
   "cell_type": "code",
   "execution_count": null,
   "id": "76e33f9d",
   "metadata": {},
   "outputs": [],
   "source": [
    "columns = [ 'perfect_rhyme_normalised', 'slant_rhyme_a_normalised', 'anaphora_normalised',\n",
    "       'alliteration_normalised', 'internal_rhyme_normalised', 'no_rhyme_normalised' ]\n",
    "titles = df['title']\n",
    "df_network = df[ columns ]"
   ]
  },
  {
   "cell_type": "code",
   "execution_count": null,
   "id": "aff17a1b",
   "metadata": {},
   "outputs": [],
   "source": [
    "from sklearn.metrics.pairwise import cosine_similarity\n",
    "\n",
    "matrix = cosine_similarity(df_network)\n",
    "matrix_df = pd.DataFrame( matrix , columns = titles , index = titles )\n",
    "\n",
    "from pyvis.network import Network\n",
    "net = Network(notebook=True , height=\"750px\", width=\"100%\" , bgcolor=\"#dce5f2\" )\n",
    "\n",
    "net.force_atlas_2based(\n",
    "        gravity=-60,\n",
    "        central_gravity=0.01,\n",
    "        spring_length=100,\n",
    "        spring_strength=0.08,\n",
    "        damping=0.4,\n",
    "        overlap= 0 )\n",
    "               \n",
    "related_texts = list(matrix_df.columns)\n",
    "\n",
    "## an edge is drawn in between two nodes\n",
    "# if the cosine similarity is 0.9 or higher\n",
    "min_similarity = 0.95\n",
    "\n",
    "\n",
    "\n",
    "for text,values in matrix_df.iterrows():\n",
    "    for rt in related_texts:\n",
    "        if text != rt:\n",
    "            if values[rt] >= min_similarity:\n",
    "                if author[f'{text}.xml'] == 'Yeats':\n",
    "                    c ='#EE7733'\n",
    "                else:\n",
    "                    c = '#007788'  \n",
    "                net.add_node(text , title=text ,  color= c , value = 15 )\n",
    "                \n",
    "                if author[f'{rt}.xml'] == 'Yeats':\n",
    "                    c ='#EE7733'\n",
    "                else:\n",
    "                    c = '#007788'\n",
    "                net.add_node(rt , title = rt, color = c , value = 15)\n",
    "                \n",
    "                net.add_edge( text , rt) \n",
    "                \n",
    "\n",
    "\n",
    "net.show('network.html')"
   ]
  },
  {
   "cell_type": "markdown",
   "id": "34a040db",
   "metadata": {},
   "source": [
    "## Visualisation of perfect rhyme and alliteration"
   ]
  },
  {
   "cell_type": "code",
   "execution_count": null,
   "id": "aa84da5f",
   "metadata": {},
   "outputs": [],
   "source": [
    "poems = [ 'Autobiography.xml' , 'SelvaOscura.xml']\n",
    "\n",
    "for tei in poems:\n",
    "    path = os.path.join('XML',tei)\n",
    "    poem = rp.Poem(path)\n",
    "    print(poem.title + '\\n')\n",
    "    \n",
    "#     for l in poem.transcriptions.values():\n",
    "#         print(l)\n",
    "    \n",
    "    svg = poem.visualise_rhyme_alliteration()\n",
    "    \n",
    "    out = open( f'{poem.title}_svg.html' , 'w' , encoding = 'utf-8' )\n",
    "    out.write(svg)\n",
    "    out.close()\n",
    "\n",
    "    from IPython.display import SVG, display, HTML\n",
    "    display(HTML(svg))"
   ]
  },
  {
   "cell_type": "markdown",
   "id": "fd9ffd7e",
   "metadata": {},
   "source": [
    "## Sentiment analysis"
   ]
  },
  {
   "cell_type": "code",
   "execution_count": null,
   "id": "8678a252",
   "metadata": {},
   "outputs": [],
   "source": [
    "import math\n",
    "\n",
    "poems = ['TheBlackTower.xml', 'LedaAndTheSwan.xml' ]\n",
    "\n",
    "for tei in poems:\n",
    "    path = os.path.join('XML',tei)\n",
    "    poem = rp.Poem(path)\n",
    "    lines = poem.lines \n",
    "\n",
    "\n",
    "    colours_pos = ['#fecac9','#ffaaa9','#ff9a99','#ff9290','#ff6968','#ff3937','#ff0906','#e40200','#cc0200','#a30200']\n",
    "    colours_neg = ['#a0cbf7','#3d96f0','#1782ed','#0e6ac5','#0e65bd','#0d61b6','#0c5dae','#0c59a7','#0b559f','#0b5197']\n",
    "\n",
    "    from nltk import word_tokenize\n",
    "    from vaderSentiment.vaderSentiment import SentimentIntensityAnalyzer \n",
    "\n",
    "    ana = SentimentIntensityAnalyzer()\n",
    "\n",
    "    html = ''\n",
    "    html += '<html><body>'\n",
    "    html += f'<h2>{poem.title}</h2>'\n",
    "\n",
    "    for line in lines:\n",
    "        words = rp.word_tokenise(lines[line])\n",
    "\n",
    "        for word in words:\n",
    "            scores = ana.polarity_scores(word)\n",
    "            if scores['neg'] > 0: \n",
    "                score = abs(round( scores['compound']*10))  \n",
    "                colour = colours_neg[score-1]\n",
    "                font = '#FFFFFF'\n",
    "            elif scores['pos'] > 0: \n",
    "                score = abs(round( scores['compound']*10)) \n",
    "                colour = colours_pos[score-1]\n",
    "                font = '#FFFFFF'\n",
    "            else: \n",
    "                colour = '#FFFFFF'\n",
    "                font = '#000000'\n",
    "\n",
    "\n",
    "            if len(word)>1:\n",
    "                html += ' '\n",
    "            html += f'<span style=\"color: {font} ; background-color: {colour}\">{word}</span>' \n",
    "\n",
    "        html += '<br/>'\n",
    "\n",
    "    html += '</body></html>'\n",
    "\n",
    "    from IPython.display import display, HTML\n",
    "    display(HTML(html))\n"
   ]
  },
  {
   "cell_type": "code",
   "execution_count": null,
   "id": "12457204",
   "metadata": {},
   "outputs": [],
   "source": [
    "x_axis = 'perfect_rhyme_normalised'\n",
    "df['neg_words_normalised'] = df['neg_words'] / df['nr_words']\n",
    "y_axis = 'neg_words_normalised'\n",
    "\n",
    "\n",
    "import seaborn as sns\n",
    "import matplotlib.pyplot as plt \n",
    "\n",
    "#colours = [  '#a88732' ,  '#265c28' , '#a0061a' ,  '#431670' ]\n",
    "\n",
    "## The line below applies a stylesheet\n",
    "## and also adds spacing in between the lines of the legend \n",
    "sns.set(style='whitegrid', rc = {'legend.labelspacing': 2})\n",
    "\n",
    "\n",
    "fig = plt.figure( figsize = ( 12,8 ))\n",
    "\n",
    "colours = ['#3361ab', '#d93f2e']\n",
    "ax = sns.scatterplot(x = x_axis , y = y_axis , data=df , s=100 , hue = 'author', palette=colours)\n",
    "\n",
    "# this next line makes sure that the legend is shown outside of the graph\n",
    "plt.legend(bbox_to_anchor=(1.05, 1), loc=2, borderaxespad=0.)\n",
    "\n",
    "\n",
    "for index, row in df.iterrows():\n",
    "    alpha = 0.95\n",
    "    if row[x_axis] < 0.05 and row[y_axis] < 0.05:\n",
    "        alpha = 0.1\n",
    "    plt.text( row[x_axis], row[y_axis] , row['title'] , alpha = alpha , fontsize=12.8)\n",
    "\n",
    "plt.show()"
   ]
  },
  {
   "cell_type": "code",
   "execution_count": null,
   "id": "639c5c3c",
   "metadata": {},
   "outputs": [],
   "source": []
  }
 ],
 "metadata": {
  "kernelspec": {
   "display_name": "Python 3 (ipykernel)",
   "language": "python",
   "name": "python3"
  },
  "language_info": {
   "codemirror_mode": {
    "name": "ipython",
    "version": 3
   },
   "file_extension": ".py",
   "mimetype": "text/x-python",
   "name": "python",
   "nbconvert_exporter": "python",
   "pygments_lexer": "ipython3",
   "version": "3.7.9"
  }
 },
 "nbformat": 4,
 "nbformat_minor": 5
}
